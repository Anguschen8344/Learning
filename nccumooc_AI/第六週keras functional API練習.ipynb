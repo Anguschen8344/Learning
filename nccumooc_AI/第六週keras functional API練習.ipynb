{
 "cells": [
  {
   "cell_type": "markdown",
   "metadata": {},
   "source": [
    "這次的作業是這樣的，希望你能利用本週教的keras functional API，\n",
    "\n",
    "設計一個mnist的分類模型，這個模型可以一次訓練十個獨立的全連接層，\n",
    "\n",
    "每一個獨立的全連接層的目標是學習答案的十維向量裡的其中一個element，\n",
    "\n",
    "每個全連接層有十個神經元，且都跟隨一個average layer把它的輸出做平均，\n",
    "\n",
    "最後再把這十個層的輸出連接起來，取softmax之後比較結果。"
   ]
  },
  {
   "cell_type": "code",
   "execution_count": 1,
   "metadata": {},
   "outputs": [
    {
     "name": "stderr",
     "output_type": "stream",
     "text": [
      "Using TensorFlow backend.\n"
     ]
    }
   ],
   "source": [
    "#keras \n",
    "import keras\n",
    "import keras.backend as K\n",
    "from keras.models import Model\n",
    "from keras.layers import Dense, Activation, Flatten, Permute, Conv1D, Conv2D, Add, Conv2DTranspose \n",
    "from keras.optimizers import Adam\n",
    "from keras.layers import Input, Dense, concatenate, Lambda, Conv2D, Reshape, BatchNormalization, Lambda, Activation \n",
    "from keras.callbacks import ModelCheckpoint\n",
    "from keras.regularizers import l2\n",
    "from keras.activations import softmax\n",
    "from keras.datasets import mnist\n",
    "from keras.utils import plot_model\n",
    "\n",
    "# tensorflow\n",
    "import tensorflow as tf\n",
    "\n",
    "#numpy\n",
    "import numpy as np"
   ]
  },
  {
   "cell_type": "code",
   "execution_count": 13,
   "metadata": {},
   "outputs": [
    {
     "name": "stdout",
     "output_type": "stream",
     "text": [
      "x_train shape: (60000, 28, 28)\n",
      "60000 train samples\n",
      "10000 test samples\n"
     ]
    }
   ],
   "source": [
    "# 把mnist load 進來\n",
    "(x_train, y_train), (x_test, y_test) = mnist.load_data()\n",
    "x_train = x_train.astype('float32')\n",
    "x_test = x_test.astype('float32')\n",
    "\n",
    "# 把每個像素的值從(0~255)->(0, 1)\n",
    "x_train /= 255\n",
    "x_test /= 255\n",
    "\n",
    "print('x_train shape:', x_train.shape)\n",
    "print(x_train.shape[0], 'train samples')\n",
    "print(x_test.shape[0], 'test samples')\n",
    "\n",
    "# convert class vectors to binary class matrices\n",
    "y_train = keras.utils.to_categorical(y_train, 10)\n",
    "y_test = keras.utils.to_categorical(y_test, 10)"
   ]
  },
  {
   "cell_type": "code",
   "execution_count": 4,
   "metadata": {},
   "outputs": [],
   "source": [
    "# 定義一下Average\n",
    "def average_function(inputs):\n",
    "    return K.mean(inputs, axis=-1, keepdims=True)\n",
    "\n",
    "\n",
    "#把定義好的Average用Lambda封裝起來變成layer\n",
    "average_layer = Lambda(average_function)"
   ]
  },
  {
   "cell_type": "code",
   "execution_count": 15,
   "metadata": {},
   "outputs": [],
   "source": [
    "# Model \n",
    "model_input = Input(shape=(28,28))\n",
    "flatten = Flatten()(model_input)"
   ]
  },
  {
   "cell_type": "markdown",
   "metadata": {},
   "source": [
    "# 作業開始"
   ]
  },
  {
   "cell_type": "code",
   "execution_count": 16,
   "metadata": {},
   "outputs": [],
   "source": [
    "# 請給我十個分開的Dense層，每個層裡面有十個神經元，且輸入都來自flatten\n",
    "# activation function請用relu\n",
    "\n",
    "# 每一個Dense層後面都必須再接一個 average_layer，然後把這十個層整理成一個list\n",
    "# 舉例： \n",
    "# x_1 = Dense(10)\n",
    "# avg_1 = averge_layer(x_1)\n",
    "# list.append(...)\n",
    "# 這不是完整的答案，只是個提示。\n",
    "# 且答案不侷限於上述寫法，有更簡潔明快的做法\n",
    "\n",
    "Den=Dense(10, activation='relu')\n",
    "\n",
    "d_1=Dense(10, activation='relu')\n",
    "d_2=Dense(10, activation='relu')\n",
    "d_3=Dense(10, activation='relu')\n",
    "d_4=Dense(10, activation='relu')\n",
    "d_5=Dense(10, activation='relu')\n",
    "d_6=Dense(10, activation='relu')\n",
    "d_7=Dense(10, activation='relu')\n",
    "d_8=Dense(10, activation='relu')\n",
    "d_9=Dense(10, activation='relu')\n",
    "d_10=Dense(10, activation='relu')\n",
    "\n",
    "f_1=d_1(flatten)\n",
    "a_1=average_layer(f_1)\n",
    "f_2=d_2(flatten)\n",
    "a_2=average_layer(f_2)\n",
    "f_3=d_3(flatten)\n",
    "a_3=average_layer(f_3)\n",
    "f_4=d_4(flatten)\n",
    "a_4=average_layer(f_4)\n",
    "f_5=d_5(flatten)\n",
    "a_5=average_layer(f_5)\n",
    "f_6=d_6(flatten)\n",
    "a_6=average_layer(f_6)\n",
    "f_7=d_7(flatten)\n",
    "a_7=average_layer(f_7)\n",
    "f_8=d_8(flatten)\n",
    "a_8=average_layer(f_8)\n",
    "f_9=d_9(flatten)\n",
    "a_9=average_layer(f_9)\n",
    "f_10=d_10(flatten)\n",
    "a_10=average_layer(f_10)\n",
    "\n",
    "average_list= [a_1+a_2+a_3+a_4+a_5+a_6+a_7+a_8+a_9+a_10]\n",
    "\n",
    "# 請把這十個層用學長教過的concatenate層連接起來（基本上就是把上面的average_list放進去並加上其他參數。\n",
    "\n",
    "concatenate_layer = concatenate([a_1, a_2, a_3, a_4, a_5, a_6, a_7, a_8, a_9, a_10])\n",
    "\n",
    "# Hint: 這次的作業就只有上面的 pass 跟 None 的部分，\n",
    "# 當然你也可以大方地使用 python 的 list comprehension 功能，\n",
    "# 這樣可以少寫幾行。"
   ]
  },
  {
   "cell_type": "markdown",
   "metadata": {},
   "source": [
    "# 作業結束"
   ]
  },
  {
   "cell_type": "code",
   "execution_count": 20,
   "metadata": {},
   "outputs": [
    {
     "name": "stdout",
     "output_type": "stream",
     "text": [
      "Model: \"model_1\"\n",
      "__________________________________________________________________________________________________\n",
      "Layer (type)                    Output Shape         Param #     Connected to                     \n",
      "==================================================================================================\n",
      "input_4 (InputLayer)            (None, 28, 28)       0                                            \n",
      "__________________________________________________________________________________________________\n",
      "flatten_4 (Flatten)             (None, 784)          0           input_4[0][0]                    \n",
      "__________________________________________________________________________________________________\n",
      "dense_13 (Dense)                (None, 10)           7850        flatten_4[0][0]                  \n",
      "__________________________________________________________________________________________________\n",
      "dense_14 (Dense)                (None, 10)           7850        flatten_4[0][0]                  \n",
      "__________________________________________________________________________________________________\n",
      "dense_15 (Dense)                (None, 10)           7850        flatten_4[0][0]                  \n",
      "__________________________________________________________________________________________________\n",
      "dense_16 (Dense)                (None, 10)           7850        flatten_4[0][0]                  \n",
      "__________________________________________________________________________________________________\n",
      "dense_17 (Dense)                (None, 10)           7850        flatten_4[0][0]                  \n",
      "__________________________________________________________________________________________________\n",
      "dense_18 (Dense)                (None, 10)           7850        flatten_4[0][0]                  \n",
      "__________________________________________________________________________________________________\n",
      "dense_19 (Dense)                (None, 10)           7850        flatten_4[0][0]                  \n",
      "__________________________________________________________________________________________________\n",
      "dense_20 (Dense)                (None, 10)           7850        flatten_4[0][0]                  \n",
      "__________________________________________________________________________________________________\n",
      "dense_21 (Dense)                (None, 10)           7850        flatten_4[0][0]                  \n",
      "__________________________________________________________________________________________________\n",
      "dense_22 (Dense)                (None, 10)           7850        flatten_4[0][0]                  \n",
      "__________________________________________________________________________________________________\n",
      "lambda_1 (Lambda)               (None, 1)            0           dense_13[0][0]                   \n",
      "                                                                 dense_14[0][0]                   \n",
      "                                                                 dense_15[0][0]                   \n",
      "                                                                 dense_16[0][0]                   \n",
      "                                                                 dense_17[0][0]                   \n",
      "                                                                 dense_18[0][0]                   \n",
      "                                                                 dense_19[0][0]                   \n",
      "                                                                 dense_20[0][0]                   \n",
      "                                                                 dense_21[0][0]                   \n",
      "                                                                 dense_22[0][0]                   \n",
      "__________________________________________________________________________________________________\n",
      "concatenate_1 (Concatenate)     (None, 10)           0           lambda_1[0][0]                   \n",
      "                                                                 lambda_1[1][0]                   \n",
      "                                                                 lambda_1[2][0]                   \n",
      "                                                                 lambda_1[3][0]                   \n",
      "                                                                 lambda_1[4][0]                   \n",
      "                                                                 lambda_1[5][0]                   \n",
      "                                                                 lambda_1[6][0]                   \n",
      "                                                                 lambda_1[7][0]                   \n",
      "                                                                 lambda_1[8][0]                   \n",
      "                                                                 lambda_1[9][0]                   \n",
      "__________________________________________________________________________________________________\n",
      "activation_1 (Activation)       (None, 10)           0           concatenate_1[0][0]              \n",
      "==================================================================================================\n",
      "Total params: 78,500\n",
      "Trainable params: 78,500\n",
      "Non-trainable params: 0\n",
      "__________________________________________________________________________________________________\n",
      "None\n"
     ]
    }
   ],
   "source": [
    "#加一個softmax\n",
    "model_output = Activation(\"softmax\")(concatenate_layer)\n",
    "model = Model(model_input, model_output)\n",
    "\n",
    "# 你的model.summary理論上會長這樣\n",
    "print(model.summary())"
   ]
  },
  {
   "cell_type": "code",
   "execution_count": 21,
   "metadata": {},
   "outputs": [
    {
     "name": "stdout",
     "output_type": "stream",
     "text": [
      "Train on 60000 samples, validate on 10000 samples\n",
      "Epoch 1/10\n",
      "60000/60000 [==============================] - 17s 278us/step - loss: 0.4894 - accuracy: 0.8808 - val_loss: 0.2970 - val_accuracy: 0.9163\n",
      "Epoch 2/10\n",
      "60000/60000 [==============================] - 11s 186us/step - loss: 0.2873 - accuracy: 0.9204 - val_loss: 0.2603 - val_accuracy: 0.9254\n",
      "Epoch 3/10\n",
      "60000/60000 [==============================] - 10s 162us/step - loss: 0.2569 - accuracy: 0.9280 - val_loss: 0.2389 - val_accuracy: 0.9306\n",
      "Epoch 4/10\n",
      "60000/60000 [==============================] - 11s 176us/step - loss: 0.2389 - accuracy: 0.9337 - val_loss: 0.2306 - val_accuracy: 0.9338\n",
      "Epoch 5/10\n",
      "60000/60000 [==============================] - 11s 176us/step - loss: 0.2244 - accuracy: 0.9366 - val_loss: 0.2184 - val_accuracy: 0.9358\n",
      "Epoch 6/10\n",
      "60000/60000 [==============================] - 10s 171us/step - loss: 0.2116 - accuracy: 0.9408 - val_loss: 0.2091 - val_accuracy: 0.9375\n",
      "Epoch 7/10\n",
      "60000/60000 [==============================] - 11s 185us/step - loss: 0.2009 - accuracy: 0.9437 - val_loss: 0.1992 - val_accuracy: 0.9423\n",
      "Epoch 8/10\n",
      "60000/60000 [==============================] - 10s 170us/step - loss: 0.1910 - accuracy: 0.9460 - val_loss: 0.1936 - val_accuracy: 0.9431\n",
      "Epoch 9/10\n",
      "60000/60000 [==============================] - 14s 232us/step - loss: 0.1832 - accuracy: 0.9480 - val_loss: 0.1865 - val_accuracy: 0.9451\n",
      "Epoch 10/10\n",
      "60000/60000 [==============================] - 11s 185us/step - loss: 0.1759 - accuracy: 0.9504 - val_loss: 0.1819 - val_accuracy: 0.9458\n"
     ]
    },
    {
     "data": {
      "text/plain": [
       "<keras.callbacks.callbacks.History at 0x26eb763c508>"
      ]
     },
     "execution_count": 21,
     "metadata": {},
     "output_type": "execute_result"
    }
   ],
   "source": [
    "# compile & fit\n",
    "model.compile(loss=keras.losses.categorical_crossentropy,\n",
    "              optimizer=\"adam\",\n",
    "              metrics=['accuracy'])\n",
    "\n",
    "model.fit(x_train, y_train,\n",
    "          batch_size=32,\n",
    "          epochs=10,\n",
    "          verbose=1,\n",
    "          validation_data=(x_test, y_test))"
   ]
  },
  {
   "cell_type": "code",
   "execution_count": 25,
   "metadata": {},
   "outputs": [
    {
     "data": {
      "text/plain": [
       "[<tf.Tensor 'add_8:0' shape=(None, 1) dtype=float32>]"
      ]
     },
     "execution_count": 25,
     "metadata": {},
     "output_type": "execute_result"
    }
   ],
   "source": [
    "average_list"
   ]
  },
  {
   "cell_type": "code",
   "execution_count": 26,
   "metadata": {},
   "outputs": [
    {
     "data": {
      "text/plain": [
       "<tf.Tensor 'concatenate_1/concat:0' shape=(None, 10) dtype=float32>"
      ]
     },
     "execution_count": 26,
     "metadata": {},
     "output_type": "execute_result"
    }
   ],
   "source": [
    "concatenate_layer"
   ]
  },
  {
   "cell_type": "code",
   "execution_count": 22,
   "metadata": {},
   "outputs": [
    {
     "name": "stdout",
     "output_type": "stream",
     "text": [
      "10000/10000 [==============================] - 0s 39us/step\n"
     ]
    }
   ],
   "source": [
    "score = model.evaluate(x_test, y_test)"
   ]
  },
  {
   "cell_type": "code",
   "execution_count": 23,
   "metadata": {},
   "outputs": [
    {
     "name": "stdout",
     "output_type": "stream",
     "text": [
      "測試資料的loss: 0.18189417765289545\n",
      "測試資料的正確率: 0.9458000063896179\n"
     ]
    }
   ],
   "source": [
    "print(\"測試資料的loss:\", score[0])\n",
    "print(\"測試資料的正確率:\", score[1])"
   ]
  },
  {
   "cell_type": "code",
   "execution_count": 24,
   "metadata": {},
   "outputs": [],
   "source": [
    "model_json= model.to_json()\n",
    "open('hw_model_w6.json', 'w').write(model_json)\n",
    "model.save_weights('hw_w6_weights.h5')"
   ]
  }
 ],
 "metadata": {
  "kernelspec": {
   "display_name": "Python 3",
   "language": "python",
   "name": "python3"
  },
  "language_info": {
   "codemirror_mode": {
    "name": "ipython",
    "version": 3
   },
   "file_extension": ".py",
   "mimetype": "text/x-python",
   "name": "python",
   "nbconvert_exporter": "python",
   "pygments_lexer": "ipython3",
   "version": "3.7.4"
  }
 },
 "nbformat": 4,
 "nbformat_minor": 2
}
