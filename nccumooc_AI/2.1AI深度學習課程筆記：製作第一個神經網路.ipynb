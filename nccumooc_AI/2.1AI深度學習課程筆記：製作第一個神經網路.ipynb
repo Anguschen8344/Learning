{
 "cells": [
  {
   "cell_type": "markdown",
   "metadata": {},
   "source": [
    "## 2.1 打造第一個神經網路\n",
    "\n",
    "### 使用NN建立手寫辨識應用\n",
    "    1. 問問題：想用電腦辨識手寫數字\n",
    "    2. 化成函數形式：\n",
    "        * 784維向量(28*28矩陣)輸出成10維向量(0~9)。\n",
    "   ![化成函數](2_1_1.jpg) \n",
    "        * One-Hot encoding：依分類形成0、1組成的向量，表示不同數字。\n",
    "   ![one-hot](2_1_2.jpg) \n",
    "        * 要求輸出值相加為一=>可以使用Soft Max\n",
    "   ![soft max](2_1.jpg)   \n"
   ]
  },
  {
   "cell_type": "code",
   "execution_count": null,
   "metadata": {},
   "outputs": [],
   "source": []
  }
 ],
 "metadata": {
  "kernelspec": {
   "display_name": "Python 3",
   "language": "python",
   "name": "python3"
  },
  "language_info": {
   "codemirror_mode": {
    "name": "ipython",
    "version": 3
   },
   "file_extension": ".py",
   "mimetype": "text/x-python",
   "name": "python",
   "nbconvert_exporter": "python",
   "pygments_lexer": "ipython3",
   "version": "3.7.4"
  }
 },
 "nbformat": 4,
 "nbformat_minor": 2
}
